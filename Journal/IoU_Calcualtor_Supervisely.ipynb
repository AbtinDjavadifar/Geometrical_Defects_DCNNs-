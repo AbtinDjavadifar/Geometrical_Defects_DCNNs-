{
 "cells": [
  {
   "cell_type": "markdown",
   "metadata": {},
   "source": [
    "# Calculate mean Intersection-Over-Union (mIOU) metric\n",
    "\n",
    "A ready-to-use script to find mean Intersection-Over-Union metric of class pairs\n",
    "\n",
    "\n",
    "**Input**:\n",
    "- Existing Project (i.e. \"london_roads\")\n",
    "- At least one pair of classes (i.e. (\"car_gt\", \"car_lb\"))\n",
    "\n",
    "**Output**:\n",
    "- intersection, union and IoU for each class pair\n"
   ]
  },
  {
   "cell_type": "markdown",
   "metadata": {},
   "source": [
    "## Imports"
   ]
  },
  {
   "cell_type": "code",
   "execution_count": 49,
   "metadata": {},
   "outputs": [],
   "source": [
    "import supervisely_lib as sly\n",
    "import os\n",
    "import collections\n",
    "from prettytable import PrettyTable\n",
    "from tqdm import tqdm\n",
    "from matplotlib import pyplot as plt\n",
    "import numpy as np"
   ]
  },
  {
   "cell_type": "markdown",
   "metadata": {},
   "source": [
    "## Configuration\n",
    "\n",
    "Edit the following settings for your own case"
   ]
  },
  {
   "cell_type": "code",
   "execution_count": 50,
   "metadata": {},
   "outputs": [],
   "source": [
    "# Change this field to the name of your team, where target workspace exists.\n",
    "team_name = \"The AI Company\" # Automatically inserted\n",
    "# Change this field to the of your workspace, where target project exists.\n",
    "workspace_name = \"Wrinkle and maybe wrinkle\" # Automatically inserted\n",
    "# Change this field to the name of your target project.\n",
    "project_name = \"Deeplab Test\" # Automatically inserted\n",
    "\n",
    "# Configure the following dictionary  so that is will match pairs of ground truth and predicted classes\n",
    "# between which IOU will be caluclated.\n",
    "classes_mapping = {\n",
    "    \"Wrinkle\": \"Wrinkle_dl\",\n",
    "    \"Maybe_Wrinkle\": \"Maybe_Wrinkle_dl\",    \n",
    "}\n",
    "\n",
    "# If you are running this notebook on a Supervisely web instance, the connection\n",
    "# details below will be filled in from environment variables automatically.\n",
    "#\n",
    "# If you are running this notebook locally on your own machine, edit to fill in the\n",
    "# connection details manually. You can find your access token at\n",
    "# \"Your name on the top right\" -> \"Account settings\" -> \"API token\".\n",
    "address = os.environ['SERVER_ADDRESS']\n",
    "token = os.environ['API_TOKEN']"
   ]
  },
  {
   "cell_type": "markdown",
   "metadata": {},
   "source": [
    "## Script setup\n",
    "\n",
    "Import nessesary packages and initialize Supervisely API to remotely manage your projects"
   ]
  },
  {
   "cell_type": "code",
   "execution_count": 51,
   "metadata": {},
   "outputs": [],
   "source": [
    "# Initialize API object\n",
    "api = sly.Api(address, token)"
   ]
  },
  {
   "cell_type": "markdown",
   "metadata": {},
   "source": [
    "## Verify input values\n",
    "\n",
    "Test that context (team / workspace / project) exists"
   ]
  },
  {
   "cell_type": "code",
   "execution_count": 52,
   "metadata": {},
   "outputs": [
    {
     "name": "stdout",
     "output_type": "stream",
     "text": [
      "Team: id=18450, name=The AI Company\n",
      "Workspace: id=25746, name=Wrinkle and maybe wrinkle\n",
      "Project: id=58115, name=Deeplab Test\n"
     ]
    }
   ],
   "source": [
    "team = api.team.get_info_by_name(team_name)\n",
    "if team is None:\n",
    "    raise RuntimeError(\"Team {!r} not found\".format(team_name))\n",
    "\n",
    "workspace = api.workspace.get_info_by_name(team.id, workspace_name)\n",
    "if workspace is None:\n",
    "    raise RuntimeError(\"Workspace {!r} not found\".format(workspace_name))\n",
    "    \n",
    "project = api.project.get_info_by_name(workspace.id, project_name)\n",
    "if project is None:\n",
    "    raise RuntimeError(\"Project {!r} not found\".format(project_name))\n",
    "    \n",
    "print(\"Team: id={}, name={}\".format(team.id, team.name))\n",
    "print(\"Workspace: id={}, name={}\".format(workspace.id, workspace.name))\n",
    "print(\"Project: id={}, name={}\".format(project.id, project.name))"
   ]
  },
  {
   "cell_type": "markdown",
   "metadata": {},
   "source": [
    "## Get Project Meta of Source Project\n",
    "\n",
    "Project Meta contains information about classes and tags# Get source project meta"
   ]
  },
  {
   "cell_type": "code",
   "execution_count": 53,
   "metadata": {},
   "outputs": [],
   "source": [
    "meta_json = api.project.get_meta(project.id)\n",
    "meta = sly.ProjectMeta.from_json(meta_json)\n",
    "\n",
    "# check that all classes exist\n",
    "project_classes_names = list(classes_mapping.keys()) + list(classes_mapping.values())\n",
    "\n",
    "for class_name in project_classes_names:\n",
    "    if class_name not in meta.obj_classes.keys():\n",
    "        raise RuntimeError(\"Class {!r} not found in source project {!r}\".format(class_name, project.name))"
   ]
  },
  {
   "cell_type": "markdown",
   "metadata": {},
   "source": [
    "## Iterate over all images, and calculate metric by annotations pairs"
   ]
  },
  {
   "cell_type": "code",
   "execution_count": 54,
   "metadata": {},
   "outputs": [
    {
     "name": "stdout",
     "output_type": "stream",
     "text": [
      "{('Wrinkle', 'Wrinkle_dl'): [0.39731374477501846, 0.5972188025221329, 0.5982396657419775, 0.5844624787384323, 0.49602172506122866, 0.4193001304581383, 0.31558590392512653, 0.0, 0.43670462156731416, 0.41069712821607773, 0.5259824241419333, 0.6098968754809913, 0.3609498545487166, 0.32706014755533325, 0.41788295913044404, 0.5752503114474231, 0.6622159220814852, 0.3445914452690832, 0.5393263439660941, 0.5844607874668554, 0.5335193380796613, 0.4861610278018755, 0.3174449239522216, 0.0, 0.5585373276420417, 0.5920292059628841, 0.4266702532810443, 0.5495646349631614, 0.5517037846218902], ('Maybe_Wrinkle', 'Maybe_Wrinkle_dl'): [0.21674237143306874, 0.2640015724128894, 0.1542340794476527, 0.14231711173706157, 0.09423779602195416, 0.1240259519684772, 0.13917865049763647, 0.0, 0.18956996259052064, 0.13813991574668757, 0.1578037374805153, 0.1425376805760544, 0.2150773503630912, 0.11465414196539608, 0.19469810646659522, 0.18034825870646767, 0.2139286058260588, 0.23809874181443602, 0.22439102908037342, 0.202225852732143, 0.36585639072476756, 0.10761655029423423, 0.20846960241837115, 0.0, 0.0, 0.1523816379046625, 0.2524100847393376, 0.16668601546355846, 0.20341148886283705, 0.1996242893221035, 0.1154161000277268]}\n"
     ]
    }
   ],
   "source": [
    "def safe_ratio(num, denom):\n",
    "    return (num / denom) if denom != 0 else -1\n",
    "\n",
    "def get_intersection(mask_1, mask_2):\n",
    "    return (mask_1 & mask_2).sum()\n",
    "\n",
    "\n",
    "def get_union(mask_1, mask_2):\n",
    "    return (mask_1 | mask_2).sum()\n",
    "\n",
    "\n",
    "def get_iou(mask_1, mask_2):\n",
    "    return safe_ratio(get_intersection(mask_1, mask_2), get_union(mask_1, mask_2))\n",
    "\n",
    "def _render_labels_for_class_name(labels, class_name, canvas):\n",
    "    for label in labels:\n",
    "        if label.obj_class.name == class_name:\n",
    "            label.geometry.draw(canvas, True)\n",
    "\n",
    "ious = {}\n",
    "def add_pair(ann_gt, ann_pred):\n",
    "    img_size = ann_gt.img_size\n",
    "    for cls_gt, cls_pred in classes_mapping.items():\n",
    "        mask_gt, mask_pred = np.full(img_size, False), np.full(img_size, False)\n",
    "        _render_labels_for_class_name(ann_gt.labels, cls_gt, mask_gt)\n",
    "        _render_labels_for_class_name(ann_pred.labels, cls_pred, mask_pred)\n",
    "        iou = get_iou(mask_gt, mask_pred)\n",
    "        if (cls_gt,cls_pred) not in ious:\n",
    "            ious[(cls_gt,cls_pred)] = []\n",
    "        if iou != -1:\n",
    "            ious[(cls_gt,cls_pred)].append(iou)\n",
    "        \n",
    "for batch in sly.batched(images):\n",
    "    image_ids = [image_info.id for image_info in batch]\n",
    "    ann_infos = api.annotation.download_batch(dataset.id, image_ids)\n",
    "\n",
    "    for ann_info in ann_infos:\n",
    "        ann = sly.Annotation.from_json(ann_info.annotation, meta)\n",
    "        add_pair(ann, ann)\n",
    "\n",
    "print(ious)\n",
    "        "
   ]
  },
  {
   "cell_type": "markdown",
   "metadata": {},
   "source": [
    "## Print results manually"
   ]
  },
  {
   "cell_type": "code",
   "execution_count": 57,
   "metadata": {},
   "outputs": [
    {
     "name": "stdout",
     "output_type": "stream",
     "text": [
      "+------------------------------------+--------------------------------------------------------------------+\n",
      "|            classes pair            |                           metrics values                           |\n",
      "+------------------------------------+--------------------------------------------------------------------+\n",
      "|       Wrinkle <-> Wrinkle_dl       | iou: count: 29 mean: 0.45582040580684774, std: 0.15792706512135607 |\n",
      "| Maybe_Wrinkle <-> Maybe_Wrinkle_dl | iou: count: 31 mean: 0.16509945408466706, std: 0.07647258997327959 |\n",
      "+------------------------------------+--------------------------------------------------------------------+\n"
     ]
    }
   ],
   "source": [
    "table = PrettyTable([\"classes pair\", \"metrics values\"])\n",
    "\n",
    "def build_values_text(values):\n",
    "    return \"iou: count: {} mean: {}, std: {}\".format(len(values), np.mean(values), np.std(values))\n",
    "    \n",
    "for classes, values in ious.items():\n",
    "    pair_text = \"{} <-> {}\".format(classes[0], classes[1])\n",
    "    table.add_row([pair_text, build_values_text(values)])\n",
    "\n",
    "print(table.get_string())"
   ]
  },
  {
   "cell_type": "markdown",
   "metadata": {},
   "source": [
    "# Done!"
   ]
  }
 ],
 "metadata": {
  "kernelspec": {
   "display_name": "Python 3",
   "language": "python",
   "name": "python3"
  },
  "language_info": {
   "codemirror_mode": {
    "name": "ipython",
    "version": 3
   },
   "file_extension": ".py",
   "mimetype": "text/x-python",
   "name": "python",
   "nbconvert_exporter": "python",
   "pygments_lexer": "ipython3",
   "version": "3.6.5"
  }
 },
 "nbformat": 4,
 "nbformat_minor": 2
}
