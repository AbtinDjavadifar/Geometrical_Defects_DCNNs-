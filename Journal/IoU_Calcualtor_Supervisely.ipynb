{
 "cells": [
  {
   "cell_type": "markdown",
   "metadata": {},
   "source": [
    "# Calculate mean Intersection-Over-Union (mIOU) metric\n",
    "\n",
    "A ready-to-use script to find mean Intersection-Over-Union metric of class pairs\n",
    "\n",
    "\n",
    "**Input**:\n",
    "- Existing Project (i.e. \"london_roads\")\n",
    "- At least one pair of classes (i.e. (\"car_gt\", \"car_lb\"))\n",
    "\n",
    "**Output**:\n",
    "- intersection, union and IoU for each class pair\n"
   ]
  },
  {
   "cell_type": "markdown",
   "metadata": {},
   "source": [
    "## Imports"
   ]
  },
  {
   "cell_type": "code",
   "execution_count": 1,
   "metadata": {},
   "outputs": [],
   "source": [
    "import supervisely_lib as sly\n",
    "import os\n",
    "import collections\n",
    "from prettytable import PrettyTable\n",
    "from tqdm import tqdm\n",
    "from matplotlib import pyplot as plt\n",
    "import numpy as np"
   ]
  },
  {
   "cell_type": "markdown",
   "metadata": {},
   "source": [
    "## Configuration\n",
    "\n",
    "Edit the following settings for your own case"
   ]
  },
  {
   "cell_type": "code",
   "execution_count": 2,
   "metadata": {},
   "outputs": [],
   "source": [
    "# Change this field to the name of your team, where target workspace exists.\n",
    "team_name = \"The AI Company\" # Automatically inserted\n",
    "# Change this field to the of your workspace, where target project exists.\n",
    "workspace_name = \"Journal\" # Automatically inserted\n",
    "# Change this field to the name of your target project.\n",
    "project_name = \"DL AC test\" # Automatically inserted\n",
    "\n",
    "# Configure the following dictionary  so that is will match pairs of ground truth and predicted classes\n",
    "# between which IOU will be caluclated.\n",
    "classes_mapping = {\n",
    "    \"Fabric\": \"Fabric_dl\",\n",
    "    \"Gripper\": \"Gripper_dl\",\n",
    "    \"Wrinkle\": \"Wrinkle_dl\",\n",
    "}\n",
    "\n",
    "# If you are running this notebook on a Supervisely web instance, the connection\n",
    "# details below will be filled in from environment variables automatically.\n",
    "#\n",
    "# If you are running this notebook locally on your own machine, edit to fill in the\n",
    "# connection details manually. You can find your access token at\n",
    "# \"Your name on the top right\" -> \"Account settings\" -> \"API token\".\n",
    "address = os.environ['SERVER_ADDRESS']\n",
    "token = os.environ['API_TOKEN']"
   ]
  },
  {
   "cell_type": "markdown",
   "metadata": {},
   "source": [
    "## Script setup\n",
    "\n",
    "Import nessesary packages and initialize Supervisely API to remotely manage your projects"
   ]
  },
  {
   "cell_type": "code",
   "execution_count": 3,
   "metadata": {},
   "outputs": [],
   "source": [
    "# Initialize API object\n",
    "api = sly.Api(address, token)"
   ]
  },
  {
   "cell_type": "markdown",
   "metadata": {},
   "source": [
    "## Verify input values\n",
    "\n",
    "Test that context (team / workspace / project) exists"
   ]
  },
  {
   "cell_type": "code",
   "execution_count": 4,
   "metadata": {},
   "outputs": [
    {
     "name": "stdout",
     "output_type": "stream",
     "text": [
      "Team: id=18450, name=The AI Company\n",
      "Workspace: id=26283, name=Journal\n",
      "Project: id=59049, name=DL AC test\n"
     ]
    }
   ],
   "source": [
    "team = api.team.get_info_by_name(team_name)\n",
    "if team is None:\n",
    "    raise RuntimeError(\"Team {!r} not found\".format(team_name))\n",
    "\n",
    "workspace = api.workspace.get_info_by_name(team.id, workspace_name)\n",
    "if workspace is None:\n",
    "    raise RuntimeError(\"Workspace {!r} not found\".format(workspace_name))\n",
    "    \n",
    "project = api.project.get_info_by_name(workspace.id, project_name)\n",
    "if project is None:\n",
    "    raise RuntimeError(\"Project {!r} not found\".format(project_name))\n",
    "    \n",
    "print(\"Team: id={}, name={}\".format(team.id, team.name))\n",
    "print(\"Workspace: id={}, name={}\".format(workspace.id, workspace.name))\n",
    "print(\"Project: id={}, name={}\".format(project.id, project.name))"
   ]
  },
  {
   "cell_type": "markdown",
   "metadata": {},
   "source": [
    "## Get Project Meta of Source Project\n",
    "\n",
    "Project Meta contains information about classes and tags# Get source project meta"
   ]
  },
  {
   "cell_type": "code",
   "execution_count": 5,
   "metadata": {},
   "outputs": [],
   "source": [
    "meta_json = api.project.get_meta(project.id)\n",
    "meta = sly.ProjectMeta.from_json(meta_json)\n",
    "\n",
    "# check that all classes exist\n",
    "project_classes_names = list(classes_mapping.keys()) + list(classes_mapping.values())\n",
    "\n",
    "for class_name in project_classes_names:\n",
    "    if class_name not in meta.obj_classes.keys():\n",
    "        raise RuntimeError(\"Class {!r} not found in source project {!r}\".format(class_name, project.name))"
   ]
  },
  {
   "cell_type": "markdown",
   "metadata": {},
   "source": [
    "## Iterate over all images, and calculate metric by annotations pairs"
   ]
  },
  {
   "cell_type": "code",
   "execution_count": 7,
   "metadata": {},
   "outputs": [
    {
     "name": "stdout",
     "output_type": "stream",
     "text": [
      "{('Fabric', 'Fabric_dl'): [0.7522791650883671, 0.8952347965013777, 0.8899784932430264, 0.7758187619183939, 0.8267382717683922, 0.808839704732108, 0.9376385600313693, 0.8814706105614737, 0.8884434250948617, 0.8083127782030564, 0.7301220661392475, 0.9666791283913694, 0.8487230190084586, 0.9119832994086292, 0.8419801501716737, 0.8180559940672428, 0.8644226360853996, 0.8920362115711594, 0.8429583086960244, 0.8438082022772762, 0.9195160885993249, 0.8841620461925019, 0.8725760321168301, 0.8654411209340626, 0.929344268723437, 0.8864008887447604, 0.8295237316521651, 0.893406293821594, 0.8072006431837596, 0.9034449786017978, 0.7304002880458875], ('Gripper', 'Gripper_dl'): [0.9299777546469945, 0.9580294705898469, 0.9355698927511685, 0.9568031580952535, 0.9563680616882417, 0.9463951220289374, 0.9209468889954032, 0.8179614905166548, 0.8787132615142075, 0.9397630467637611, 0.9156924301294964, 0.9437814529864982, 0.9203895765210937, 0.9503679764562528, 0.9408228272097435, 0.9287592396731327, 0.9642550041705257, 0.8659442142835955, 0.9022220645031553, 0.9553798548633976, 0.9456865598678407, 0.910711728274181, 0.9112688782754614, 0.8743865487211974, 0.8859498843821352, 0.8853548705364483, 0.93695518300817, 0.9497391295738952, 0.9540347471561775, 0.925582066246454, 0.9259728780204997], ('Wrinkle', 'Wrinkle_dl'): [0.29763467637518554, 0.5932478448724262, 0.6293929712460063, 0.606080234369708, 0.4754277258855082, 0.6194517194748284, 0.5529671611935323, 0.26944184178824787, 0.2762778116804935, 0.2861261761630946, 0.35216086398032426, 0.465267044478791, 0.2886485428709056, 0.32750509733343963, 0.45015596854268264, 0.521040013923745, 0.5465854462007471, 0.3688172272950837, 0.4373910838030877, 0.5204982265115895, 0.38406516512565336, 0.3821790060275219, 0.38020152295977233, 0.0, 0.0, 0.0, 0.5046724161328211, 0.542350528666936, 0.44773778959829047, 0.5314759435212174, 0.4591684566237533]}\n"
     ]
    }
   ],
   "source": [
    "def safe_ratio(num, denom):\n",
    "    return (num / denom) if denom != 0 else -1\n",
    "\n",
    "def get_intersection(mask_1, mask_2):\n",
    "    return (mask_1 & mask_2).sum()\n",
    "\n",
    "\n",
    "def get_union(mask_1, mask_2):\n",
    "    return (mask_1 | mask_2).sum()\n",
    "\n",
    "\n",
    "def get_iou(mask_1, mask_2):\n",
    "    return safe_ratio(get_intersection(mask_1, mask_2), get_union(mask_1, mask_2))\n",
    "\n",
    "def _render_labels_for_class_name(labels, class_name, canvas):\n",
    "    for label in labels:\n",
    "        if label.obj_class.name == class_name:\n",
    "            label.geometry.draw(canvas, True)\n",
    "\n",
    "ious = {}\n",
    "def add_pair(ann_gt, ann_pred):\n",
    "    img_size = ann_gt.img_size\n",
    "    for cls_gt, cls_pred in classes_mapping.items():\n",
    "        mask_gt, mask_pred = np.full(img_size, False), np.full(img_size, False)\n",
    "        _render_labels_for_class_name(ann_gt.labels, cls_gt, mask_gt)\n",
    "        _render_labels_for_class_name(ann_pred.labels, cls_pred, mask_pred)\n",
    "        iou = get_iou(mask_gt, mask_pred)\n",
    "        if (cls_gt,cls_pred) not in ious:\n",
    "            ious[(cls_gt,cls_pred)] = []\n",
    "        if iou != -1:\n",
    "            ious[(cls_gt,cls_pred)].append(iou)\n",
    "        \n",
    "for dataset in api.dataset.get_list(project.id):\n",
    "    images = api.image.get_list(dataset.id)        \n",
    "    for batch in sly.batched(images):\n",
    "        image_ids = [image_info.id for image_info in batch]\n",
    "        ann_infos = api.annotation.download_batch(dataset.id, image_ids)\n",
    "\n",
    "        for ann_info in ann_infos:\n",
    "            ann = sly.Annotation.from_json(ann_info.annotation, meta)\n",
    "            add_pair(ann, ann)\n",
    "\n",
    "print(ious)\n",
    "        "
   ]
  },
  {
   "cell_type": "markdown",
   "metadata": {},
   "source": [
    "## Print results manually"
   ]
  },
  {
   "cell_type": "code",
   "execution_count": 8,
   "metadata": {},
   "outputs": [
    {
     "name": "stdout",
     "output_type": "stream",
     "text": [
      "+------------------------+--------------------------------------------------------------------+\n",
      "|      classes pair      |                           metrics values                           |\n",
      "+------------------------+--------------------------------------------------------------------+\n",
      "|  Fabric <-> Fabric_dl  | iou: count: 31 mean: 0.8563529020508075, std: 0.05741958630369401  |\n",
      "| Gripper <-> Gripper_dl | iou: count: 31 mean: 0.9236704923370911, std: 0.03281281307350667  |\n",
      "| Wrinkle <-> Wrinkle_dl | iou: count: 31 mean: 0.40374091956920627, std: 0.16848883174247614 |\n",
      "+------------------------+--------------------------------------------------------------------+\n"
     ]
    }
   ],
   "source": [
    "table = PrettyTable([\"classes pair\", \"metrics values\"])\n",
    "\n",
    "def build_values_text(values):\n",
    "    return \"iou: count: {} mean: {}, std: {}\".format(len(values), np.mean(values), np.std(values))\n",
    "    \n",
    "for classes, values in ious.items():\n",
    "    pair_text = \"{} <-> {}\".format(classes[0], classes[1])\n",
    "    table.add_row([pair_text, build_values_text(values)])\n",
    "\n",
    "print(table.get_string())"
   ]
  },
  {
   "cell_type": "markdown",
   "metadata": {},
   "source": [
    "# Done!"
   ]
  }
 ],
 "metadata": {
  "kernelspec": {
   "display_name": "Python 3",
   "language": "python",
   "name": "python3"
  },
  "language_info": {
   "codemirror_mode": {
    "name": "ipython",
    "version": 3
   },
   "file_extension": ".py",
   "mimetype": "text/x-python",
   "name": "python",
   "nbconvert_exporter": "python",
   "pygments_lexer": "ipython3",
   "version": "3.6.5"
  }
 },
 "nbformat": 4,
 "nbformat_minor": 2
}
